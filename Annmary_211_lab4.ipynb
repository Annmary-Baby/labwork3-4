{
 "cells": [
  {
   "cell_type": "code",
   "execution_count": null,
   "metadata": {},
   "outputs": [],
   "source": [
    "class Course:\n",
    "    def __init__(self, course_code, course_name, instructor):\n",
    "        self.course_code = course_code\n",
    "        self.course_name = course_name\n",
    "        self.instructor = instructor\n",
    "        self.students = []\n",
    "    \n",
    "    def add_student(self, student):\n",
    "        self.students.append(student)\n",
    "    \n",
    "    def display(self):\n",
    "        return f\"Course: {self.course_code} - {self.course_name}, Instructor: {self.instructor.display()}\"\n",
    "\n",
    "class Person:\n",
    "    def __init__(self, person_id, name):\n",
    "        self.person_id = person_id\n",
    "        self.name = name\n",
    "    \n",
    "    def display(self):\n",
    "        return f\"{self.person_id} - {self.name}\"\n",
    "\n",
    "class Student(Person):\n",
    "    def __init__(self, student_id, name):\n",
    "        super().__init__(student_id, name)\n",
    "        class Instructor(Person):\n",
    "    def __init__(self, instructor_id, name):\n",
    "        super().__init__(instructor_id, name)\n",
    "\n",
    "# Testing the classes\n",
    "instructor = Instructor(\"I001\", \"John Doe\")\n",
    "course = Course(\"CS101\", \"Introduction to Programming\\n\", instructor)\n",
    "\n",
    "student1 = Student(\"S001\", \"Alice\")\n",
    "student2 = Student(\"S002\", \"Bob\")\n",
    "\n",
    "course.add_student(student1)\n",
    "course.add_student(student2)\n",
    "\n",
    "print(course.display())\n",
    "\n",
    "for student in course.students:\n",
    "    print(student.display())\n",
    "\n"
   ]
  }
 ],
 "metadata": {
  "language_info": {
   "name": "python"
  },
  "orig_nbformat": 4
 },
 "nbformat": 4,
 "nbformat_minor": 2
}
