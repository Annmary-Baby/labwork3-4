{
 "cells": [
  {
   "cell_type": "code",
   "execution_count": 5,
   "metadata": {},
   "outputs": [
    {
     "name": "stdout",
     "output_type": "stream",
     "text": [
      "{'Name': 'Annmary', 'Domain': 'Onlinecoursemanagement', 'Registration Number': '2347211'}\n"
     ]
    }
   ],
   "source": [
    "\n",
    "def stringsplit(x):\n",
    "    x = x.replace('_', ' ') \n",
    "    name, domain, regNo = x.split() \n",
    "    myDict = {\"Name\": name, \"Domain\": domain, \"Registration Number\": regNo}\n",
    "    return myDict\n",
    "\n",
    "encode_string = input(\"Enter 'Name', 'Domain', 'Registration No.' with any number of underscores in between: \")\n",
    "newDict = stringsplit(encode_string)\n",
    "print(newDict)\n"
   ]
  },
  {
   "cell_type": "code",
   "execution_count": null,
   "metadata": {},
   "outputs": [],
   "source": []
  }
 ],
 "metadata": {
  "kernelspec": {
   "display_name": "Python 3",
   "language": "python",
   "name": "python3"
  },
  "language_info": {
   "codemirror_mode": {
    "name": "ipython",
    "version": 3
   },
   "file_extension": ".py",
   "mimetype": "text/x-python",
   "name": "python",
   "nbconvert_exporter": "python",
   "pygments_lexer": "ipython3",
   "version": "3.11.4"
  },
  "orig_nbformat": 4
 },
 "nbformat": 4,
 "nbformat_minor": 2
}
